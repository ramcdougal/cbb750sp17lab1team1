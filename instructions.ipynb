{
 "cells": [
  {
   "cell_type": "markdown",
   "metadata": {},
   "source": [
    "<h1>Overview</h1><br/>\n",
    "Your team studies the comparative anatomy of neuron morphologies. Your group has until <b>11:25</b> to design and implement a MongoDB database to store the morphology data, to populate the database, and to write functions to display the results of certain queries. Collaborate with your team using GitHub. At the end of class, your team will give a 10 minute presentation discussing the problem, your solution, and any interesting challenges you encountered.<br/><br/>\n",
    "<i>Asking your teammates and the instructors questions is expected and encouraged.</i>"
   ]
  },
  {
   "cell_type": "markdown",
   "metadata": {},
   "source": [
    "<h1>Getting started</h1><br/>Examine the file <a href=\"neuromorpho.tsv\">neuromorpho.tsv</a> in your favorite spreadsheet program. It contains neuron morphology data from <a href=\"http://neuromorpho.org\">NeuroMorpho.Org</a>; this data was originally published across many papers, listed in <a href=\"references.pdf\">references.pdf</a>.<br/><br/>\n",
    "Now that you have looked at this data: write code to store it in a MongoDB database."
   ]
  },
  {
   "cell_type": "markdown",
   "metadata": {},
   "source": [
    "<h1>Data analysis</h1><br/>\n",
    "Write and test functions to:"
   ]
  },
  {
   "cell_type": "markdown",
   "metadata": {},
   "source": [
    "(1) take a NeuroMorpho.Org_ID (first column) and display all the corresponding information in a formatted table."
   ]
  },
  {
   "cell_type": "markdown",
   "metadata": {},
   "source": [
    "(2) plot a bar chart (see <a href=\"http://matplotlib.org/examples/api/barchart_demo.html\">here</a> for an example) comparing the number of entries for each species."
   ]
  },
  {
   "cell_type": "markdown",
   "metadata": {},
   "source": [
    "(3) return a dictionary whose keys are the species and whose values are the list of all neuron types (see notes) for that species."
   ]
  },
  {
   "cell_type": "markdown",
   "metadata": {},
   "source": [
    "(4) take a neuron type (see notes), a species, and two numeric column headings (e.g. Soma_Surface and number of stems), produce a scatter plot (see code examples <a href=\"https://plot.ly/matplotlib/scatter/\">here</a)> showing the corresponding values for the corresponding cell type."
   ]
  },
  {
   "cell_type": "markdown",
   "metadata": {},
   "source": [
    "(5) find the list of all NeuroMorpho.Org_ID values for a given neuron type (see notes) and age range (see notes)."
   ]
  },
  {
   "cell_type": "markdown",
   "metadata": {},
   "source": [
    "(6) provide any additional analysis or visualization information you think would be helpful."
   ]
  },
  {
   "cell_type": "markdown",
   "metadata": {},
   "source": [
    "<h1>Notes</h1><br/>\n",
    "<ol>\n",
    "<li>Define the <i>neuron type</i> to be a combination of the Primary_Brain_Region, Secondary_Brain_Region, and Secondary_Cell_Class. e.g. the first entry has neuron type: Neocortex prefrontal adapting non-pyramidal cell.</li>\n",
    "<li>Age information is contained in the Min_Age, Max_Age, and Age_Scale columns. An age is not necessarily provided for every row. The units are indicated by the Age_Scale column and are often (but not always) included in the other columns as well.</li>\n",
    "</ol>"
   ]
  },
  {
   "cell_type": "code",
   "execution_count": null,
   "metadata": {
    "collapsed": true
   },
   "outputs": [],
   "source": []
  }
 ],
 "metadata": {
  "anaconda-cloud": {},
  "kernelspec": {
   "display_name": "Python [default]",
   "language": "python",
   "name": "python2"
  },
  "language_info": {
   "codemirror_mode": {
    "name": "ipython",
    "version": 2
   },
   "file_extension": ".py",
   "mimetype": "text/x-python",
   "name": "python",
   "nbconvert_exporter": "python",
   "pygments_lexer": "ipython2",
   "version": "2.7.12"
  }
 },
 "nbformat": 4,
 "nbformat_minor": 1
}
